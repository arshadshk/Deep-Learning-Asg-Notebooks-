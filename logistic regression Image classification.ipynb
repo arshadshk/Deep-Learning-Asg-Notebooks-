{
 "cells": [
  {
   "cell_type": "code",
   "execution_count": 1,
   "metadata": {},
   "outputs": [
    {
     "name": "stderr",
     "output_type": "stream",
     "text": [
      "C:\\ProgramData\\Anaconda3\\lib\\site-packages\\h5py\\__init__.py:36: FutureWarning: Conversion of the second argument of issubdtype from `float` to `np.floating` is deprecated. In future, it will be treated as `np.float64 == np.dtype(float).type`.\n",
      "  from ._conv import register_converters as _register_converters\n"
     ]
    }
   ],
   "source": [
    "import numpy as np\n",
    "import matplotlib.pyplot as plt\n",
    "import h5py\n",
    "import scipy\n",
    "from PIL import Image\n",
    "from scipy import ndimage\n",
    "from lr_utils import load_dataset\n",
    "import skimage\n",
    "%matplotlib inline"
   ]
  },
  {
   "cell_type": "code",
   "execution_count": 2,
   "metadata": {},
   "outputs": [],
   "source": [
    "# Loading the data (cat/non-cat)\n",
    "train_set_x_orig, train_set_y, test_set_x_orig, test_set_y, classes = load_dataset()"
   ]
  },
  {
   "cell_type": "code",
   "execution_count": 3,
   "metadata": {},
   "outputs": [
    {
     "data": {
      "text/plain": [
       "<matplotlib.image.AxesImage at 0x74c7150>"
      ]
     },
     "execution_count": 3,
     "metadata": {},
     "output_type": "execute_result"
    },
    {
     "data": {
      "image/png": "[encoded data removed]",
      "text/plain": [
       "<Figure size 432x288 with 1 Axes>"
      ]
     },
     "metadata": {},
     "output_type": "display_data"
    }
   ],
   "source": [
    "# Example of a picture\n",
    "index = 200\n",
    "example = train_set_x_orig[index]\n",
    "plt.imshow(train_set_x_orig[index])\n"
   ]
  },
  {
   "cell_type": "code",
   "execution_count": 4,
   "metadata": {},
   "outputs": [
    {
     "name": "stdout",
     "output_type": "stream",
     "text": [
      "Number of training examples: m_train = 209\n",
      "Number of testing examples: m_test = 50\n",
      "Height/Width of each image: num_px = 64\n",
      "Each image is of size: (64, 64, 3)\n",
      "train_set_x shape: (209, 64, 64, 3)\n",
      "train_set_y shape: (1, 209)\n",
      "test_set_x shape: (50, 64, 64, 3)\n",
      "test_set_y shape: (1, 50)\n"
     ]
    }
   ],
   "source": [
    "m_train = train_set_x_orig.shape[0]\n",
    "m_test = test_set_x_orig.shape[0]\n",
    "num_px = train_set_x_orig.shape[2]\n",
    "### END CODE HERE ###\n",
    "\n",
    "print (\"Number of training examples: m_train = \" + str(m_train))\n",
    "print (\"Number of testing examples: m_test = \" + str(m_test))\n",
    "print (\"Height/Width of each image: num_px = \" + str(num_px))\n",
    "print (\"Each image is of size: (\" + str(num_px) + \", \" + str(num_px) + \", 3)\")\n",
    "print (\"train_set_x shape: \" + str(train_set_x_orig.shape))\n",
    "print (\"train_set_y shape: \" + str(train_set_y.shape))\n",
    "print (\"test_set_x shape: \" + str(test_set_x_orig.shape))\n",
    "print (\"test_set_y shape: \" + str(test_set_y.shape))"
   ]
  },
  {
   "cell_type": "code",
   "execution_count": 5,
   "metadata": {},
   "outputs": [],
   "source": [
    "# Reshape the training and test examples\n",
    "\n",
    "train_set_x_flatten = train_set_x_orig.reshape(train_set_x_orig.shape[0], -1).T\n",
    "test_set_x_flatten = test_set_x_orig.reshape(test_set_x_orig.shape[0], -1).T"
   ]
  },
  {
   "cell_type": "code",
   "execution_count": 6,
   "metadata": {},
   "outputs": [],
   "source": [
    "#standardise\n",
    "train_set_x = train_set_x_flatten/255.\n",
    "test_set_x = test_set_x_flatten/255."
   ]
  },
  {
   "cell_type": "code",
   "execution_count": 7,
   "metadata": {},
   "outputs": [],
   "source": [
    "def sigmoid(z):\n",
    "    s = 1./(1 + np.exp(-z))\n",
    "    return s"
   ]
  },
  {
   "cell_type": "code",
   "execution_count": 8,
   "metadata": {},
   "outputs": [],
   "source": [
    "def initialize_with_zeros(dim):\n",
    "    \n",
    "    w = np.zeros(shape=(dim, 1), dtype=np.float32)\n",
    "    b = 0\n",
    "    \n",
    "    assert(w.shape == (dim,1))\n",
    "    assert(isinstance(b, float) or isinstance(b, int))\n",
    "    \n",
    "    return w,b\n",
    "    "
   ]
  },
  {
   "cell_type": "code",
   "execution_count": 9,
   "metadata": {},
   "outputs": [],
   "source": [
    "def propagate(w,b,X,Y):\n",
    "    #Front propogation\n",
    "    m = X.shape[1]\n",
    "    A = sigmoid(np.dot((w.T),X) + b)\n",
    "    cost = (-1/m)*np.sum((Y*np.log(A) + (1-Y)*np.log(1-A)) , axis=1)\n",
    "    \n",
    "    #Back propogation\n",
    "    dw = (1/m)*(np.dot(X,((A-Y).T)))\n",
    "    db = (1/m)*(np.sum((A-Y),axis=1))\n",
    "                \n",
    "    assert(dw.shape == w.shape)\n",
    "    assert(db.dtype == float)\n",
    "    cost = np.squeeze(cost)\n",
    "    assert(cost.shape==())\n",
    "    \n",
    "    grads = {\"dw\":dw  , \"db\":db}\n",
    "    \n",
    "    return grads,cost    "
   ]
  },
  {
   "cell_type": "code",
   "execution_count": 10,
   "metadata": {},
   "outputs": [],
   "source": [
    "def optimize(w,b,X,Y,learning_rate, num_iterations, print_cost = False):\n",
    "    costs= []\n",
    "    \n",
    "    for i in range(num_iterations):\n",
    "        \n",
    "        grads, cost = propagate(w=w, b=b, X=X, Y=Y)\n",
    "        \n",
    "        ;'\n",
    "        dw = grads[\"dw\"]\n",
    "        db = grads[\"db\"]\n",
    "        \n",
    "        w = w - learning_rate*dw\n",
    "        b = b - learning_rate*db\n",
    "        \n",
    "        # Record the costs\n",
    "        if i % 100 == 0:\n",
    "            costs.append(cost)\n",
    "            \n",
    "         # Print the cost every 100 training examples\n",
    "        if print_cost and i % 100 == 0:\n",
    "            print (\"Cost after iteration %i: %f\" %(i, cost))\n",
    "            \n",
    "    params = {\"w\": w,\n",
    "              \"b\": b}\n",
    "    \n",
    "    grads = {\"dw\": dw,\n",
    "             \"db\": db} \n",
    "    \n",
    "    return params,grads,costs"
   ]
  },
  {
   "cell_type": "code",
   "execution_count": 11,
   "metadata": {},
   "outputs": [],
   "source": [
    "def predict(w,b,X):\n",
    "    \n",
    "    m = X.shape[1]\n",
    "    Y_prediction = np.zeros((1,m))\n",
    "    w = w.reshape(X.shape[0], 1)\n",
    "    \n",
    "    A = sigmoid(np.dot(w.T, X) + b)\n",
    "    \n",
    "    [print(x) for x in A]\n",
    "    \n",
    "    for i in range(A.shape[1]):\n",
    "        if A[0, i] >= 0.5:\n",
    "            Y_prediction[0, i] = 1\n",
    "        else:\n",
    "            Y_prediction[0, i] = 0\n",
    "            \n",
    "    assert(Y_prediction.shape == (1, m))\n",
    "    return Y_prediction\n",
    "    "
   ]
  },
  {
   "cell_type": "code",
   "execution_count": 16,
   "metadata": {},
   "outputs": [],
   "source": [
    "def model(X_train, Y_train, X_test, Y_test, learning_rate = 0.5,num_iterations = 2000,print_cost = False):\n",
    "    \n",
    "    w, b = initialize_with_zeros(X_train.shape[0])\n",
    "    \n",
    "# Gradient descent (≈ 1 line of code)\n",
    "    parameters, grads, costs = optimize(w, b, X_train, Y_train, learning_rate, num_iterations, print_cost)\n",
    "   \n",
    "# Retrieve parameters w and b from dictionary \"parameters\"\n",
    "    w = parameters[\"w\"]\n",
    "    b = parameters[\"b\"]\n",
    "    \n",
    "# Predict test/train set examples (≈ 2 lines of code)\n",
    "    Y_prediction_test = predict(w, b, X_test)\n",
    "    Y_prediction_train = predict(w, b, X_train)\n",
    "    \n",
    "# Print train/test Errors\n",
    "    print(\"train accuracy: {} %\".format(100 - np.mean(np.abs(Y_prediction_train - Y_train)) * 100))\n",
    "    print(\"test accuracy: {} %\".format(100 - np.mean(np.abs(Y_prediction_test - Y_test)) * 100))\n",
    "    \n",
    "   \n",
    "    d = {\"costs\": costs,\n",
    "         \"Y_prediction_test\": Y_prediction_test, \n",
    "         \"Y_prediction_train\" : Y_prediction_train, \n",
    "         \"w\" : w, \n",
    "         \"b\" : b,\n",
    "         \"learning_rate\" : learning_rate,\n",
    "         \"num_iterations\": num_iterations}\n",
    "    \n",
    "    return d "
   ]
  },
  {
   "cell_type": "code",
   "execution_count": 17,
   "metadata": {},
   "outputs": [
    {
     "name": "stdout",
     "output_type": "stream",
     "text": [
      "Cost after iteration 0: 0.693147\n",
      "Cost after iteration 100: 0.584508\n",
      "Cost after iteration 200: 0.466949\n",
      "Cost after iteration 300: 0.376007\n",
      "Cost after iteration 400: 0.331463\n",
      "Cost after iteration 500: 0.303273\n",
      "Cost after iteration 600: 0.279880\n",
      "Cost after iteration 700: 0.260042\n",
      "Cost after iteration 800: 0.242941\n",
      "Cost after iteration 900: 0.228004\n",
      "Cost after iteration 1000: 0.214820\n",
      "Cost after iteration 1100: 0.203078\n",
      "Cost after iteration 1200: 0.192544\n",
      "Cost after iteration 1300: 0.183033\n",
      "Cost after iteration 1400: 0.174399\n",
      "Cost after iteration 1500: 0.166521\n",
      "Cost after iteration 1600: 0.159305\n",
      "Cost after iteration 1700: 0.152667\n",
      "Cost after iteration 1800: 0.146542\n",
      "Cost after iteration 1900: 0.140872\n",
      "[0.94366988 0.86095311 0.88896715 0.93630641 0.74075403 0.52849619\n",
      " 0.03094677 0.85707681 0.88457925 0.67279696 0.26601085 0.4823794\n",
      " 0.74741157 0.78575729 0.00978911 0.9203284  0.02453695 0.84884703\n",
      " 0.2050248  0.03703224 0.92931392 0.11930532 0.01411064 0.7832698\n",
      " 0.58188015 0.66897565 0.75119007 0.01323558 0.03402649 0.99735115\n",
      " 0.21031727 0.78123225 0.6815842  0.46647604 0.66323375 0.03424828\n",
      " 0.08031627 0.76570656 0.34760863 0.06177743 0.6987531  0.4106426\n",
      " 0.6648871  0.02776868 0.93053125 0.46395717 0.23971605 0.9771735\n",
      " 0.66202407 0.10482388]\n",
      "[1.96533335e-01 8.97519936e-02 8.90887727e-01 2.05354859e-04\n",
      " 4.10043201e-02 1.13855541e-01 3.58425358e-02 9.20256043e-01\n",
      " 8.11815498e-02 5.09505652e-02 1.43687735e-01 7.77661312e-01\n",
      " 2.37002682e-01 9.26822611e-01 7.20256211e-01 4.54525029e-02\n",
      " 2.88164240e-02 4.96209946e-02 9.53642451e-02 9.27127783e-01\n",
      " 1.46871713e-02 4.42749993e-02 1.99658284e-01 5.10794145e-02\n",
      " 8.71854257e-01 8.54873232e-01 4.43988460e-02 8.41877286e-01\n",
      " 5.57178266e-02 7.39175253e-01 8.73390575e-02 7.61255429e-02\n",
      " 2.01282223e-01 2.02159519e-01 7.95065561e-02 3.69885691e-02\n",
      " 1.14655638e-02 5.90397260e-02 8.36880946e-01 3.33057415e-01\n",
      " 1.98548242e-02 4.46965063e-01 8.23737950e-01 4.13465923e-02\n",
      " 4.61512591e-02 1.21739845e-01 9.76716144e-02 8.07086225e-01\n",
      " 8.93389416e-03 3.73249849e-02 7.53711249e-01 2.47934596e-01\n",
      " 1.47013078e-01 3.93089594e-01 9.02530607e-01 3.94290174e-03\n",
      " 9.38300399e-01 8.14429890e-01 5.51201724e-02 9.56820776e-01\n",
      " 8.35826040e-01 7.75371183e-01 4.97406386e-02 5.05302748e-02\n",
      " 1.68276426e-01 7.39795683e-02 4.23114248e-02 1.80374321e-01\n",
      " 7.36839673e-01 2.36170561e-02 4.78407244e-02 9.72682719e-01\n",
      " 8.87430447e-02 1.40500115e-01 7.39006094e-02 5.87414480e-01\n",
      " 8.55122639e-04 3.51320419e-02 7.21341360e-02 1.59367000e-01\n",
      " 9.18793718e-02 2.76678199e-03 2.16954763e-02 8.75788002e-01\n",
      " 7.48905473e-01 2.61224310e-02 1.31264831e-01 5.58549892e-02\n",
      " 7.96470422e-01 4.31114360e-02 2.46081640e-01 9.28094796e-02\n",
      " 5.13207713e-01 9.23532733e-01 9.11010943e-01 1.56664277e-01\n",
      " 1.40529680e-01 8.72871654e-01 6.33390909e-02 2.04276699e-01\n",
      " 1.50378528e-01 5.42005811e-02 7.16869008e-01 8.93930822e-02\n",
      " 9.68748123e-01 1.16897229e-01 9.65813244e-01 7.63463753e-01\n",
      " 8.45184245e-01 7.94804824e-01 8.77046596e-01 8.92528474e-01\n",
      " 2.33698759e-02 1.08088606e-01 9.41045938e-02 5.06133571e-02\n",
      " 6.14255764e-02 8.74814031e-01 7.14021606e-03 1.49573407e-01\n",
      " 1.38752636e-02 5.75050572e-01 4.74218632e-02 2.67728414e-04\n",
      " 8.16437270e-01 5.25431990e-03 8.27320337e-01 1.63520986e-01\n",
      " 9.19597717e-01 9.11124533e-01 2.96731271e-01 1.37316359e-01\n",
      " 7.56632692e-02 9.51896490e-01 7.13340131e-01 5.62771203e-01\n",
      " 8.46803645e-01 8.81283783e-01 5.80214923e-03 3.24191787e-02\n",
      " 3.66569448e-02 4.24241240e-02 9.02746461e-01 6.95602248e-03\n",
      " 7.28528692e-01 8.04734016e-01 8.48847026e-01 1.97286016e-01\n",
      " 8.73972266e-01 8.56810568e-01 4.60108117e-01 9.98074787e-02\n",
      " 2.67726747e-02 9.16713593e-01 5.70477051e-02 2.34413956e-01\n",
      " 9.17441504e-01 1.43642340e-02 1.48384241e-02 4.18971050e-02\n",
      " 4.81257763e-03 6.74987512e-02 7.96958661e-01 7.94548221e-02\n",
      " 8.88055227e-01 1.63703299e-02 9.64896262e-01 4.74597209e-02\n",
      " 3.78354422e-02 6.75950812e-01 7.60983832e-01 8.91154251e-01\n",
      " 2.15482871e-01 1.80695199e-02 9.46591763e-01 7.71101522e-01\n",
      " 4.14565207e-02 8.02916154e-01 8.02541805e-02 6.89037478e-01\n",
      " 4.92103989e-02 4.87010785e-02 1.89987579e-02 3.71043577e-02\n",
      " 1.73595068e-03 7.71575747e-01 4.06433366e-02 6.60606392e-02\n",
      " 8.34508562e-01 2.27408842e-02 6.17839573e-02 4.56149270e-02\n",
      " 7.64947622e-01 6.19347921e-02 3.55887869e-03 1.03103435e-01\n",
      " 3.83745905e-01 8.77909931e-01 7.72818586e-02 1.79082665e-02\n",
      " 8.09911232e-01 2.02130387e-02 1.89353139e-02 1.83142729e-02\n",
      " 1.94041166e-01 2.01151983e-01 8.48224028e-02 1.61929290e-01\n",
      " 1.82858623e-01]\n",
      "train accuracy: 99.04306220095694 %\n",
      "test accuracy: 70.0 %\n"
     ]
    }
   ],
   "source": [
    "d = model(train_set_x, train_set_y, test_set_x, test_set_y, num_iterations = 2000 , learning_rate = 0.005, print_cost = True)"
   ]
  },
  {
   "cell_type": "code",
   "execution_count": null,
   "metadata": {},
   "outputs": [],
   "source": []
  }
 ],
 "metadata": {
  "kernelspec": {
   "display_name": "Python 3",
   "language": "python",
   "name": "python3"
  },
  "language_info": {
   "codemirror_mode": {
    "name": "ipython",
    "version": 3
   },
   "file_extension": ".py",
   "mimetype": "text/x-python",
   "name": "python",
   "nbconvert_exporter": "python",
   "pygments_lexer": "ipython3",
   "version": "3.6.5"
  }
 },
 "nbformat": 4,
 "nbformat_minor": 2
}
